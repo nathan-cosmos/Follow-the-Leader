{
 "cells": [
  {
   "cell_type": "markdown",
   "metadata": {},
   "source": [
    "# Imports"
   ]
  },
  {
   "cell_type": "code",
   "execution_count": 614,
   "metadata": {
    "collapsed": false
   },
   "outputs": [],
   "source": [
    "import numpy as np\n",
    "import operator\n",
    "from random import *\n",
    "import math as math\n",
    "import functools\n",
    "from scipy.linalg.special_matrices import toeplitz\n",
    "from numpy.random import multivariate_normal, randn\n",
    "import matplotlib.pylab as plt\n",
    "import matplotlib.patches as mpatches\n",
    "%matplotlib inline"
   ]
  },
  {
   "cell_type": "markdown",
   "metadata": {},
   "source": [
    "# Creation des differents types d'experts"
   ]
  },
  {
   "cell_type": "markdown",
   "metadata": {},
   "source": [
    "creations d'experts avec une erreur tirée selon une uniforme a chaque instant"
   ]
  },
  {
   "cell_type": "code",
   "execution_count": 78,
   "metadata": {
    "collapsed": false
   },
   "outputs": [],
   "source": [
    "\n",
    "class E:\n",
    "    def __init__(self,l):\n",
    "        self.l=l\n",
    "    def cost(self,t):\n",
    "        seed(1)\n",
    "        v=np.array([uniform(0,i) for i in self.l])  \n",
    "        return(v)"
   ]
  },
  {
   "cell_type": "markdown",
   "metadata": {},
   "source": [
    "Creation d'experts avec des erreurs qui vont fire que le Follow the leader se trompe"
   ]
  },
  {
   "cell_type": "code",
   "execution_count": 119,
   "metadata": {
    "collapsed": true
   },
   "outputs": [],
   "source": [
    "class F:\n",
    "    def __init__(self,l):\n",
    "        self.l=l\n",
    "    def cost(self,t):\n",
    "        if t%2==0:\n",
    "            v=[1,0]\n",
    "        else:\n",
    "            v=[0,1]\n",
    "        if t==0:\n",
    "            v=[1/2.,0]\n",
    "        return(v)"
   ]
  },
  {
   "cell_type": "markdown",
   "metadata": {},
   "source": [
    "Dans ce cas la chaque expert est un modele lineaire a 3 variables. Chaque modele est entrainé  a t sur les observations devoilées ( plus 5 observations pour garantir l'existance de beta)"
   ]
  },
  {
   "cell_type": "code",
   "execution_count": 347,
   "metadata": {
    "collapsed": true
   },
   "outputs": [],
   "source": [
    "class regressionl:\n",
    "    def __init__(self,theta,l):\n",
    "        self.theta=theta\n",
    "        self.l=l\n",
    "    def simu_linreg(self, n, std=1., corr=0.5):\n",
    "        d = self.theta.shape[0]\n",
    "        cov = toeplitz(corr ** np.arange(0, d))\n",
    "        A = multivariate_normal(np.zeros(d), cov, size=n)\n",
    "        noise = std * randn(n)\n",
    "        b = A[:,0:3].dot(self.theta[0:3]) + noise\n",
    "        self.A=A\n",
    "        self.b=b\n",
    "    def cost(self,t):\n",
    "        cost=[]\n",
    "        for i in range(len(self.theta)):\n",
    "            for j in range(i):\n",
    "                for k in range(j):\n",
    "\n",
    "                    X=[self.A[0:t+5,i],self.A[0:t+5,j],self.A[0:t+5,k]]\n",
    "                    beta=np.dot(np.linalg.inv(np.dot(X,np.transpose(X))),np.dot(X,self.b[0:t+5]))\n",
    "                    cost.append(math.sqrt(sum((np.dot(beta,X)-self.b[0:t+5])**2)))\n",
    "        return(cost)\n",
    "        "
   ]
  },
  {
   "cell_type": "markdown",
   "metadata": {},
   "source": [
    "Mise en place des differents experts"
   ]
  },
  {
   "cell_type": "code",
   "execution_count": 348,
   "metadata": {
    "collapsed": false
   },
   "outputs": [
    {
     "data": {
      "text/plain": [
       "[8.755212840183239,\n",
       " 23.274728400200487,\n",
       " 16.661466734293402,\n",
       " 11.800948838877492,\n",
       " 26.215549467859887,\n",
       " 16.35590758228644,\n",
       " 11.849441143227972,\n",
       " 32.26043961795304,\n",
       " 24.359531939269907,\n",
       " 23.87132617418269]"
      ]
     },
     "execution_count": 348,
     "metadata": {},
     "output_type": "execute_result"
    }
   ],
   "source": [
    "regg=regressionl(np.array([1,2,3,4,5]),np.zeros(10))\n",
    "regg.simu_linreg(100)\n",
    "ee=E(list(7*np.array([1,2,3,4,5,6,13,8,9,1,10])))\n",
    "ff=F([1,2])"
   ]
  },
  {
   "cell_type": "markdown",
   "metadata": {
    "collapsed": false
   },
   "source": [
    "# Mise en place des differents algorithmes"
   ]
  },
  {
   "cell_type": "markdown",
   "metadata": {},
   "source": [
    "Dans cette partie on va etablir les differents algorithmes presentés dans l'article. Les algorithmes vont prendre un groupe d'experts ee, une date T et souvent un parametre $\\epsilon$."
   ]
  },
  {
   "cell_type": "markdown",
   "metadata": {},
   "source": [
    "## Fonction Oracle"
   ]
  },
  {
   "cell_type": "markdown",
   "metadata": {},
   "source": [
    "Voici la fonction $M$, qui nous donne le meilleur expert a un vecteur de cout donné"
   ]
  },
  {
   "cell_type": "code",
   "execution_count": 235,
   "metadata": {
    "collapsed": true
   },
   "outputs": [],
   "source": [
    "def M(s,l,ret=\"d\"):\n",
    "    f=np.zeros(len(l))\n",
    "    min_index, min_value = min(enumerate(s), key=operator.itemgetter(1))\n",
    "    f[min_index]=1\n",
    "    if ret==\"d\":\n",
    "        return(f)\n",
    "    if ret==\"e\":\n",
    "        return(min_value)"
   ]
  },
  {
   "cell_type": "markdown",
   "metadata": {
    "collapsed": false
   },
   "source": [
    "Voici la fonction $mincost$ qui retourne le cout du l'oracle"
   ]
  },
  {
   "cell_type": "code",
   "execution_count": 629,
   "metadata": {
    "collapsed": false
   },
   "outputs": [],
   "source": [
    "def mincost(ee,T):\n",
    "    c=np.array(np.zeros(len(ee.l)))\n",
    "    D=[]\n",
    "    E=[]\n",
    "    C=[]\n",
    "    C.append(c)\n",
    "    for t in range(T):\n",
    "        c=c+ee.cost(t)\n",
    "        C.append(c)\n",
    "        D.append(M(c,ee.l))\n",
    "        E.append(np.dot(C[t],D[t]))\n",
    "        \n",
    "    return(D,np.cumsum(E),E,C)"
   ]
  },
  {
   "cell_type": "code",
   "execution_count": 634,
   "metadata": {
    "collapsed": false
   },
   "outputs": [
    {
     "data": {
      "text/plain": [
       "[0.0,\n",
       " 0.5,\n",
       " 1.0,\n",
       " 1.5,\n",
       " 2.0,\n",
       " 2.5,\n",
       " 3.0,\n",
       " 3.5,\n",
       " 4.0,\n",
       " 4.5,\n",
       " 5.0,\n",
       " 5.5,\n",
       " 6.0,\n",
       " 6.5,\n",
       " 7.0,\n",
       " 7.5,\n",
       " 8.0,\n",
       " 8.5,\n",
       " 9.0,\n",
       " 9.5]"
      ]
     },
     "execution_count": 634,
     "metadata": {},
     "output_type": "execute_result"
    }
   ],
   "source": [
    "mincost(ff,20)[2]"
   ]
  },
  {
   "cell_type": "markdown",
   "metadata": {
    "collapsed": false
   },
   "source": [
    "# # Fonctions Follow The..."
   ]
  },
  {
   "cell_type": "markdown",
   "metadata": {},
   "source": [
    "Follow the leader (FL), choisit a chaque étape la decision qui a fait le mieux pour l'instant "
   ]
  },
  {
   "cell_type": "code",
   "execution_count": 572,
   "metadata": {
    "collapsed": true
   },
   "outputs": [],
   "source": [
    "def FL(ee,T):\n",
    "    c=np.array(np.zeros(len(ee.l)))\n",
    "    D=[]\n",
    "    E=[]\n",
    "    C=[]\n",
    "    C.append(c)\n",
    "    for t in range(T):\n",
    "        D.append(M(c,ee.l))\n",
    "        c=c+ee.cost(t)\n",
    "        C.append(c)\n",
    "        E.append(np.dot(D[t],C[t+1]-C[t]))\n",
    "        \n",
    "    return(D,np.cumsum(E),E,C)"
   ]
  },
  {
   "cell_type": "markdown",
   "metadata": {
    "collapsed": false
   },
   "source": [
    "Follow the Perturbed Leader (FPL), suit le meilleur leader mais en considerant une version perturbée de son erreur"
   ]
  },
  {
   "cell_type": "code",
   "execution_count": 554,
   "metadata": {
    "collapsed": true
   },
   "outputs": [],
   "source": [
    "def FPL(ee,T,epsilon):\n",
    "    c=np.array(np.zeros(len(ee.l)))\n",
    "    P=[]\n",
    "    D=[]\n",
    "    E=[]\n",
    "    C=[]\n",
    "    C.append(c)\n",
    "\n",
    "    for t in range(T):\n",
    "        P.append([uniform(0,1/epsilon) for i in range(len(ee.l))])\n",
    "        D.append(M(c+P[t],ee.l))\n",
    "        c=c+ee.cost(t)\n",
    "        C.append(c)\n",
    "        E.append(np.dot(D[t],C[t+1]-C[t]))\n",
    "        \n",
    "    return(D,np.cumsum(E),E,C)"
   ]
  },
  {
   "cell_type": "markdown",
   "metadata": {
    "collapsed": false
   },
   "source": [
    "FPLM est une version multiplicative de Follow the Perturbed Leader, qui induit des perturbations differentes."
   ]
  },
  {
   "cell_type": "code",
   "execution_count": 557,
   "metadata": {
    "collapsed": false
   },
   "outputs": [],
   "source": [
    "def FPLM(ee,T,epsilon):\n",
    "    c=np.array(np.zeros(len(ee.l)))\n",
    "    P=[]\n",
    "    D=[]\n",
    "    E=[]\n",
    "    C=[]\n",
    "    C.append(c)\n",
    "\n",
    "    for t in range(T):\n",
    "        P.append([expovariate(1)/epsilon for i in range(len(ee.l))])\n",
    "        D.append(M(c+P[t],ee.l))\n",
    "        c=c+ee.cost(t)\n",
    "        C.append(c)\n",
    "        E.append(np.dot(D[t],C[t+1]-C[t]))\n",
    "        \n",
    "    return(D,np.cumsum(E),E,C)"
   ]
  },
  {
   "cell_type": "markdown",
   "metadata": {
    "collapsed": false
   },
   "source": [
    "Follow the Expected Leader (FEL) est un algorithme que l'on traitera peu, car il necessite que le set des decisions soit convexe, ce qui n'est pas le cas pour le problemme des experts"
   ]
  },
  {
   "cell_type": "code",
   "execution_count": 362,
   "metadata": {
    "collapsed": false
   },
   "outputs": [],
   "source": [
    "def FEL(ee,T,epsilon,m):\n",
    "    c=np.array(np.zeros(len(ee.l)))\n",
    "    C=[]\n",
    "    D=[]\n",
    "    E=[]\n",
    "    C.append(c)\n",
    "\n",
    "    for t in range(T):\n",
    "        v=np.zeros(len(ee.l))\n",
    "        for i in range(m):\n",
    "            p=[uniform(0,1/epsilon) for i in range(len(ee.l))]\n",
    "            v=v+M(c+p,ee.l)/m\n",
    "        \n",
    "        D.append(v)\n",
    "        c=c+ee.cost(t)\n",
    "        C.append(c)\n",
    "        E.append(np.dot(D[t],C[t+1]-C[t]))\n",
    "        \n",
    "    return(D,np.cumsum(E),E)"
   ]
  },
  {
   "cell_type": "markdown",
   "metadata": {
    "collapsed": false
   },
   "source": [
    "Hannan est un algorithme de perturbation du leader, mais sa particularité est que la perturbation augmente a chaque étape."
   ]
  },
  {
   "cell_type": "code",
   "execution_count": 558,
   "metadata": {
    "collapsed": true
   },
   "outputs": [],
   "source": [
    "def Hannan(ee,T,delta):\n",
    "    c=np.array(np.zeros(len(ee.l)))\n",
    "    P=[]\n",
    "    D=[]\n",
    "    E=[]\n",
    "    C=[]\n",
    "    C.append(c)\n",
    "\n",
    "    for t in range(T):\n",
    "        P.append([uniform(0,math.sqrt(t)/delta) for i in range(len(ee.l))])\n",
    "        D.append(M(c,ee.l))\n",
    "        c=c+ee.cost(t)\n",
    "        C.append(c)\n",
    "        E.append(np.dot(D[t],C[t+1]-C[t]))\n",
    "        \n",
    "    return(D,np.cumsum(E),E)"
   ]
  },
  {
   "cell_type": "markdown",
   "metadata": {
    "collapsed": false
   },
   "source": [
    "Follow the Lazy Leader (FLL) et sa version multiplicative (FLLM) sont les derniers algorithmes que nous allons présenter. Ils sont equivalents en esperance a FPL et FPLM respectivement, mais sont utiles lorsque l'appel a la fonction oracle $M$ est cher computationellement parlant."
   ]
  },
  {
   "cell_type": "code",
   "execution_count": 609,
   "metadata": {
    "collapsed": true
   },
   "outputs": [],
   "source": [
    "def FLL(ee,epsilon,T):\n",
    "    c=np.array(np.zeros(len(ee.l)))\n",
    "    \n",
    "    D=[]\n",
    "    E=[]\n",
    "    C=[]\n",
    "    C.append(c)\n",
    "    P=[uniform(0,1/epsilon) for i in range(len(ee.l))]\n",
    "    l=np.zeros(len(ee.l)-1)\n",
    "\n",
    "    for t in range(T):\n",
    "        g=[math.floor(c[i]*epsilon)/epsilon+P[i] for i in range(len(ee.l)-1)]\n",
    "        c=c+ee.cost(t)\n",
    "        C.append(c)\n",
    "        if list(g)==list(l):\n",
    "            D.append(M(g,ee.l))\n",
    "        else:\n",
    "            D.append(M(g,ee.l))\n",
    "            l=g\n",
    "        E.append(np.dot(D[t],C[t+1]-C[t]))\n",
    "    return(D,np.cumsum(E),E,C)\n",
    "        "
   ]
  },
  {
   "cell_type": "code",
   "execution_count": 97,
   "metadata": {
    "collapsed": true
   },
   "outputs": [],
   "source": [
    "def mu(epsilon,x):\n",
    "    return(math.exp(-epsilon*sum(abs(np.array(x)))))"
   ]
  },
  {
   "cell_type": "code",
   "execution_count": 569,
   "metadata": {
    "collapsed": false
   },
   "outputs": [],
   "source": [
    "def FLLM(ee,epsilon,T):\n",
    "    c=np.array(np.zeros(len(ee.l)))\n",
    "    P=[]\n",
    "    D=[]\n",
    "    E=[]\n",
    "    C=[]\n",
    "    P.append(np.array([expovariate(1)/epsilon for i in range(len(ee.l))]))\n",
    "    C.append(c)\n",
    "    for t in range(T):\n",
    "        D.append(M(c+P[t],ee.l))\n",
    "        c=c+ee.cost(t)\n",
    "        C.append(c)\n",
    "        E.append(np.dot(D[t],C[t+1]-C[t]))\n",
    "        if min(1,math.exp(math.log(mu(epsilon,P[t]-(C[t+1]-C[t])))-math.log(mu(epsilon,P[t]))))>uniform(0,1):\n",
    "            P.append(P[t]-(C[t+1]-C[t]))\n",
    "            \n",
    "        else:\n",
    "            P.append(-np.array(P[t]))\n",
    "        \n",
    "    return(D,np.cumsum(E),E,C)\n",
    "        "
   ]
  },
  {
   "cell_type": "markdown",
   "metadata": {},
   "source": [
    "# Tests et autres"
   ]
  },
  {
   "cell_type": "code",
   "execution_count": 473,
   "metadata": {
    "collapsed": false
   },
   "outputs": [
    {
     "name": "stdout",
     "output_type": "stream",
     "text": [
      "[array([ 1.,  0.]), array([ 1.,  0.]), array([ 1.,  0.]), array([ 1.,  0.]), array([ 0.,  1.]), array([ 0.,  1.]), array([ 1.,  0.]), array([ 0.,  1.]), array([ 0.,  1.])]\n"
     ]
    },
    {
     "data": {
      "text/plain": [
       "[array([ 0.,  1.]),\n",
       " array([ 1.,  0.]),\n",
       " array([ 1.,  0.]),\n",
       " array([ 0.,  1.]),\n",
       " array([ 1.,  0.]),\n",
       " array([ 0.,  1.]),\n",
       " array([ 1.,  0.]),\n",
       " array([ 1.,  0.]),\n",
       " array([ 0.,  1.])]"
      ]
     },
     "execution_count": 473,
     "metadata": {},
     "output_type": "execute_result"
    }
   ],
   "source": [
    "a=FPL(ff,100,epsilon)\n",
    "print(a[0][1:10])\n",
    "\n",
    "a[0][90:99]"
   ]
  },
  {
   "cell_type": "code",
   "execution_count": 466,
   "metadata": {
    "collapsed": false
   },
   "outputs": [
    {
     "name": "stdout",
     "output_type": "stream",
     "text": [
      "[array([  0.        ,   0.53      ,   1.07      ,   1.59666667,\n",
      "         2.12333333,   2.66666667,   3.18      ,   3.71666667,\n",
      "         4.25333333,   4.80666667,   5.32      ,   5.86333333,\n",
      "         6.42333333,   6.96333333,   7.48333333,   8.05333333,\n",
      "         8.59333333,   9.12      ,   9.63333333,  10.17666667,\n",
      "        10.67      ,  11.22      ,  11.76      ,  12.30666667,\n",
      "        12.8       ,  13.33666667,  13.81      ,  14.35666667,\n",
      "        14.93666667,  15.45666667,  15.99333333,  16.49333333,\n",
      "        16.98666667,  17.53666667,  18.03666667,  18.58333333,\n",
      "        19.18333333,  19.74333333,  20.30666667,  20.8       ,\n",
      "        21.32666667,  21.84      ,  22.36333333,  22.89333333,\n",
      "        23.44      ,  23.92666667,  24.45      ,  25.01666667,\n",
      "        25.53      ,  26.05333333,  26.62      ,  27.10333333,\n",
      "        27.65      ,  28.20666667,  28.74666667,  29.26      ,\n",
      "        29.80333333,  30.35666667,  30.85666667,  31.36333333,\n",
      "        31.90666667,  32.46666667,  33.02      ,  33.59333333,\n",
      "        34.12333333,  34.66666667,  35.16      ,  35.73      ,\n",
      "        36.30666667,  36.87666667,  37.43      ,  37.96333333,\n",
      "        38.52      ,  39.05666667,  39.52333333,  40.06333333,\n",
      "        40.57      ,  41.07      ,  41.56666667,  42.1       ,\n",
      "        42.59333333,  43.14666667,  43.65333333,  44.21      ,\n",
      "        44.74666667,  45.34666667,  45.88      ,  46.39666667,\n",
      "        46.88333333,  47.44      ,  47.96666667,  48.49666667,\n",
      "        49.01      ,  49.55333333,  50.1       ,  50.64666667,\n",
      "        51.13666667,  51.65666667,  52.18333333,  52.71      ]), array([  0.        ,   0.54      ,   1.01666667,   1.56666667,\n",
      "         2.05666667,   2.48333333,   2.97      ,   3.46333333,\n",
      "         3.97      ,   4.47666667,   5.03      ,   5.52666667,\n",
      "         6.05666667,   6.52      ,   7.03333333,   7.56      ,\n",
      "         8.        ,   8.53333333,   9.02333333,   9.55      ,\n",
      "         9.97333333,  10.49333333,  11.        ,  11.52666667,\n",
      "        12.07      ,  12.59      ,  13.09333333,  13.60666667,\n",
      "        14.10666667,  14.54333333,  15.04      ,  15.53333333,\n",
      "        16.02333333,  16.51666667,  17.01666667,  17.49666667,\n",
      "        18.01333333,  18.48      ,  19.08      ,  19.57666667,\n",
      "        20.09333333,  20.59666667,  21.08666667,  21.57666667,\n",
      "        22.09333333,  22.65333333,  23.13333333,  23.61      ,\n",
      "        24.13      ,  24.69333333,  25.16      ,  25.62      ,\n",
      "        26.11333333,  26.60333333,  27.14      ,  27.60666667,\n",
      "        28.08333333,  28.60333333,  29.12333333,  29.60333333,\n",
      "        30.11333333,  30.58      ,  31.13666667,  31.54      ,\n",
      "        32.02666667,  32.52666667,  33.02      ,  33.52666667,\n",
      "        34.00333333,  34.45      ,  34.95333333,  35.42666667,\n",
      "        35.92      ,  36.37666667,  36.87      ,  37.42      ,\n",
      "        37.92333333,  38.42666667,  38.98      ,  39.5       ,\n",
      "        39.99      ,  40.47666667,  40.98666667,  41.52      ,\n",
      "        41.99666667,  42.47333333,  42.93      ,  43.42666667,\n",
      "        43.92666667,  44.44      ,  44.95      ,  45.41      ,\n",
      "        45.89      ,  46.37333333,  46.87      ,  47.41333333,\n",
      "        47.88666667,  48.33333333,  48.84333333,  49.35      ]), array([  0.        ,   0.97333333,   1.96      ,   2.94666667,\n",
      "         3.92333333,   4.89666667,   5.87      ,   6.83666667,\n",
      "         7.82      ,   8.80333333,   9.78      ,  10.76666667,\n",
      "        11.74333333,  12.72333333,  13.70666667,  14.68333333,\n",
      "        15.64666667,  16.63333333,  17.61      ,  18.58666667,\n",
      "        19.55      ,  20.52333333,  21.49666667,  22.46      ,\n",
      "        23.44      ,  24.42333333,  25.40333333,  26.37666667,\n",
      "        27.36333333,  28.34      ,  29.30333333,  30.26      ,\n",
      "        31.24      ,  32.21666667,  33.19666667,  34.17333333,\n",
      "        35.15333333,  36.13      ,  37.11      ,  38.08666667,\n",
      "        39.06666667,  40.05      ,  41.02333333,  41.99333333,\n",
      "        42.95333333,  43.93666667,  44.90666667,  45.89      ,\n",
      "        46.86666667,  47.85      ,  48.83333333,  49.81666667,\n",
      "        50.79333333,  51.76333333,  52.73666667,  53.71333333,\n",
      "        54.69      ,  55.66333333,  56.65333333,  57.63333333,\n",
      "        58.62666667,  59.60333333,  60.57333333,  61.56333333,\n",
      "        62.54      ,  63.52      ,  64.50333333,  65.48      ,\n",
      "        66.46      ,  67.43666667,  68.40666667,  69.36      ,\n",
      "        70.34      ,  71.32666667,  72.31666667,  73.30666667,\n",
      "        74.27333333,  75.25      ,  76.23333333,  77.21666667,\n",
      "        78.20333333,  79.19      ,  80.14333333,  81.12      ,\n",
      "        82.09333333,  83.07666667,  84.06333333,  85.04333333,\n",
      "        86.02666667,  86.99666667,  87.98333333,  88.96333333,\n",
      "        89.93333333,  90.89666667,  91.87      ,  92.84333333,\n",
      "        93.83666667,  94.80666667,  95.78333333,  96.76      ])]\n"
     ]
    }
   ],
   "source": [
    "T=100\n",
    "epsilon=1/math.sqrt(len(ff.l)*T)\n",
    "epsilon2=1/math.sqrt(len(ff.l)*500.*T)\n",
    "epsilon3=1/math.sqrt(len(ff.l)/500.*T)\n",
    "A=[]\n",
    "for i in range (300):\n",
    "    b=FPL(ff,T,epsilon)[1]\n",
    "    b2=FPL(ff,T,epsilon2)[1]\n",
    "    b3=FPL(ff,T,epsilon3)[1]\n",
    "    A.append([b,b2,b3])\n",
    "A=np.array(A)\n",
    "print([sum(A[:,0])/300,sum(A[:,1])/300,sum(A[:,2])/300])"
   ]
  },
  {
   "cell_type": "markdown",
   "metadata": {},
   "source": [
    "TRIK\n",
    "\n",
    "\\begin{tabular}{ l | c | c | c | c | r }\n",
    " \\hline\t\t\t\n",
    "   FL & 20 & 40 & 60 & 80 & 100 \\\\\n",
    "   FPL (\\epsilon =petit) & 8 & 18.5 & 29.26& 42.1& 52.7 \\\\\n",
    "   FPL (\\epsilon= grand) & 18.5 & 38.0 & 57.6.8 & 77.2 & 96.7\\\\\n",
    " \\hline  \n",
    " \\end{tabular}\n",
    " \n",
    " Resultats similaires pour les autres methodes"
   ]
  },
  {
   "cell_type": "code",
   "execution_count": 467,
   "metadata": {
    "collapsed": false
   },
   "outputs": [
    {
     "name": "stdout",
     "output_type": "stream",
     "text": [
      "[50.916666666666664, 49.993333333333332, 60.463333333333331]\n"
     ]
    }
   ],
   "source": [
    "T=100\n",
    "epsilon=1/math.sqrt(len(ff.l)*T)\n",
    "epsilon2=1/math.sqrt(len(ff.l)*50.*T)\n",
    "epsilon3=1/math.sqrt(len(ff.l)/50.*T)\n",
    "A=[]\n",
    "for i in range (300):\n",
    "    b=FPLM(ff,T,epsilon)[1][99]\n",
    "    b2=FPLM(ff,T,epsilon2)[1][99]\n",
    "    b3=FPLM(ff,T,epsilon3)[1][99]\n",
    "    A.append([b,b2,b3])\n",
    "A=np.array(A)\n",
    "print([sum(A[:,0])/300,sum(A[:,1])/300,sum(A[:,2])/300])"
   ]
  },
  {
   "cell_type": "code",
   "execution_count": 416,
   "metadata": {
    "collapsed": false
   },
   "outputs": [
    {
     "name": "stdout",
     "output_type": "stream",
     "text": [
      "[52.903666666666659, 50.015333333333366, 71.323333333333295]\n"
     ]
    }
   ],
   "source": [
    "T=100\n",
    "epsilon=1/math.sqrt(len(ff.l)*T)\n",
    "epsilon2=1/math.sqrt(len(ff.l)*50.*T)\n",
    "epsilon3=1/math.sqrt(len(ff.l)/50.*T)\n",
    "A=[]\n",
    "for i in range (300):\n",
    "    b=FEL(ff,T,epsilon,10)[1][99]\n",
    "    b2=FEL(ff,T,epsilon2,10)[1][99]\n",
    "    b3=FEL(ff,T,epsilon3,10)[1][99]\n",
    "    A.append([b,b2,b3])\n",
    "A=np.array(A)\n",
    "print([sum(A[:,0])/300,sum(A[:,1])/300,sum(A[:,2])/300])"
   ]
  },
  {
   "cell_type": "code",
   "execution_count": 647,
   "metadata": {
    "collapsed": false
   },
   "outputs": [
    {
     "data": {
      "text/plain": [
       "<matplotlib.legend.Legend at 0x10d3dccd0>"
      ]
     },
     "execution_count": 647,
     "metadata": {},
     "output_type": "execute_result"
    },
    {
     "data": {
      "image/png": "[encoded data removed]",
      "text/plain": [
       "<matplotlib.figure.Figure at 0x10df04950>"
      ]
     },
     "metadata": {},
     "output_type": "display_data"
    }
   ],
   "source": [
    "plt.plot(np.array(mincost(regg,100)[2][0:20]))\n",
    "plt.plot(np.array(FPLM(regg,100,epsilon)[1][0:20]))\n",
    "plt.plot(np.array(FLLM(regg,epsilon,100)[1][0:20]))\n",
    "plt.plot(np.array(FL(regg,100)[1][0:20]))\n",
    "mincost_patch = mpatches.Patch(color='blue', label='mincost')\n",
    "FPL_patch = mpatches.Patch(color='green', label='FPLM')\n",
    "FLL_patch = mpatches.Patch(color='red', label='FLLM')\n",
    "FL_patch = mpatches.Patch(color='lightblue', label='FL')\n",
    "\n",
    "plt.legend(handles=[mincost_patch,FPL_patch,FLL_patch,FL_patch],loc=2)"
   ]
  },
  {
   "cell_type": "code",
   "execution_count": 648,
   "metadata": {
    "collapsed": false
   },
   "outputs": [
    {
     "data": {
      "text/plain": [
       "<matplotlib.legend.Legend at 0x10e541ad0>"
      ]
     },
     "execution_count": 648,
     "metadata": {},
     "output_type": "execute_result"
    },
    {
     "data": {
      "image/png": "[encoded data removed]",
      "text/plain": [
       "<matplotlib.figure.Figure at 0x10e1fb290>"
      ]
     },
     "metadata": {},
     "output_type": "display_data"
    }
   ],
   "source": [
    "plt.plot(np.array(mincost(ff,100)[2][0:50]))\n",
    "plt.plot(np.array(FPLM(ff,100,epsilon)[1][0:50]))\n",
    "plt.plot(np.array(FLLM(ff,epsilon,100)[1][0:50]))\n",
    "plt.plot(np.array(FL(ff,100)[1][0:40]))\n",
    "plt.legend(handles=[mincost_patch,FPL_patch,FLL_patch,FL_patch],loc=2)"
   ]
  },
  {
   "cell_type": "code",
   "execution_count": 592,
   "metadata": {
    "collapsed": false
   },
   "outputs": [
    {
     "data": {
      "text/plain": [
       "array([ 4.31601895,  4.77020567,  4.8363986 ,  1.92111494,  2.32274013,\n",
       "        2.89396837,  2.55800502,  2.59651885,  4.55197945,  4.56087494,\n",
       "        3.03290338,  3.07512376,  4.82263456,  3.54892811,  5.67705159])"
      ]
     },
     "execution_count": 592,
     "metadata": {},
     "output_type": "execute_result"
    }
   ],
   "source": []
  },
  {
   "cell_type": "code",
   "execution_count": 595,
   "metadata": {
    "collapsed": false
   },
   "outputs": [
    {
     "data": {
      "text/plain": [
       "array([ 1.78863464,  1.24156367,  1.38998294,  1.58657674,  2.01074624,\n",
       "        2.58033077,  3.36164529,  3.43423569,  4.12407235,  3.00746143,\n",
       "        3.03290338,  3.07512376,  3.11444366,  3.54892811,  4.0378461 ])"
      ]
     },
     "execution_count": 595,
     "metadata": {},
     "output_type": "execute_result"
    }
   ],
   "source": []
  },
  {
   "cell_type": "markdown",
   "metadata": {},
   "source": [
    "\n",
    " \\begin{tabular}{ l c c c c c c c c c c c c r }\n",
    "   BEST & 4 & 4 & 4 & 4 & 4 & 4 & 4 & 4 & 1 & 1 & 1 & 1 & 1 & 1 & 1 \\\\\n",
    "   BEST & 0.85&  1.24&  1.38&  1.58& 2.01& 2.58&  3.36&  3.43&  2.81&  3.00&3.03&  3.07&  3.11&  3.54&  4.031 \\\\\n",
    "   BEST &0.85&   2.09&  3.48&   5.06& 7.07&   9.66&  13.02&  16.45&19.83&  22.83&  25.87& 28.94& 32.06&  35.60&  39.64 \\\\\n",
    "   FL & 1 & 4 & 4 & 4 & 4 & 4 & 4 & 4 & 4 & 1 & 1 & 1 & 1 & 1 & 1\\\\\n",
    "   FL & 1.78&  1.24&  1.38&  1.58&  2.01&2.58&  3.36&  3.43&  4.12&  3.00& 3.03&  3.07&  3.11&  3.54&  4.03 \\\\\n",
    "   FL &  1.788&   3.03&  4.42&  6.00& 8.01&,  10.59&  13.95&  17.39& 21.51&  24.52&  27.55&  30.63& 33.74&  37.29&  41.33 \\\\\n",
    "   FPL & 2 & 9 & 4 & 7 & 7 & 7 & 1 & 1 & 4 & 4 & 4 & 1 & 1 & 1 & 1\\\\\n",
    "   FPL & 1.98&  1.84&  2.07&  1.58&  2.00& 2.58&  3.63&  3.43&  4.55&  4.18& 4.21&  3.07&  3.11&  3.54&  4.03 \\\\\n",
    "   FPL &3.41&   5.25&   9.49&  11.07& 13.08&  15.66&  18.22&  21.66& 26.21&  29.21& 32.25&  35.32& 38.44&  41.99&  46.02 \\\\\n",
    "   FLLM & 2 & 2 & 2 & 4 & 1 & 4 & 1 & 4 & 1 & 4 & 1 & 4 & 1 & 1 & 1 \\\\\n",
    "   FLLM & 4.31&  4.77&  4.83&  1.92&  2.32& 2.89&  2.55&  2.59&  4.55&  4.56& 3.03&  3.07&  4.82&  3.54&  5.67\\\\\n",
    "   FLLM & 1.78&   3.63&   5.51&  10.51&12.51&  14.94&  18.30&  21.73&24.55& 28.73&  31.76& 35.98& 39.09&  42.64&  46.68\\\\\n",
    " \\end{tabular}\n",
    " "
   ]
  },
  {
   "cell_type": "code",
   "execution_count": 98,
   "metadata": {
    "collapsed": false
   },
   "outputs": [
    {
     "data": {
      "text/plain": [
       "0.43276706790505337"
      ]
     },
     "execution_count": 98,
     "metadata": {},
     "output_type": "execute_result"
    }
   ],
   "source": [
    "uniform(0,1)"
   ]
  },
  {
   "cell_type": "code",
   "execution_count": 458,
   "metadata": {
    "collapsed": false
   },
   "outputs": [
    {
     "name": "stdout",
     "output_type": "stream",
     "text": [
      "[array([ 143.66621154,    0.21082742])]\n",
      "2\n",
      "2\n",
      "2\n",
      "2\n",
      "2\n",
      "2\n",
      "2\n",
      "2\n",
      "2\n",
      "2\n"
     ]
    },
    {
     "data": {
      "text/plain": [
       "[array([ 0.,  1.]),\n",
       " array([ 1.,  0.]),\n",
       " array([ 0.,  1.]),\n",
       " array([ 1.,  0.]),\n",
       " array([ 0.,  1.]),\n",
       " array([ 1.,  0.]),\n",
       " array([ 0.,  1.]),\n",
       " array([ 1.,  0.]),\n",
       " array([ 0.,  1.]),\n",
       " array([ 1.,  0.])]"
      ]
     },
     "execution_count": 458,
     "metadata": {},
     "output_type": "execute_result"
    }
   ],
   "source": [
    "FLLM(ff,.01,10)\n"
   ]
  },
  {
   "cell_type": "code",
   "execution_count": 101,
   "metadata": {
    "collapsed": false
   },
   "outputs": [
    {
     "ename": "ValueError",
     "evalue": "math domain error",
     "output_type": "error",
     "traceback": [
      "\u001b[0;31m---------------------------------------------------------------------------\u001b[0m",
      "\u001b[0;31mValueError\u001b[0m                                Traceback (most recent call last)",
      "\u001b[0;32m<ipython-input-101-abecc580aa29>\u001b[0m in \u001b[0;36m<module>\u001b[0;34m()\u001b[0m\n\u001b[0;32m----> 1\u001b[0;31m \u001b[0mmath\u001b[0m\u001b[0;34m.\u001b[0m\u001b[0mlog\u001b[0m\u001b[0;34m(\u001b[0m\u001b[0;36m10\u001b[0m\u001b[0;34m**\u001b[0m\u001b[0;34m(\u001b[0m\u001b[0;34m-\u001b[0m\u001b[0;36m400\u001b[0m\u001b[0;34m)\u001b[0m\u001b[0;34m)\u001b[0m\u001b[0;34m\u001b[0m\u001b[0m\n\u001b[0m",
      "\u001b[0;31mValueError\u001b[0m: math domain error"
     ]
    }
   ],
   "source": []
  },
  {
   "cell_type": "markdown",
   "metadata": {},
   "source": []
  },
  {
   "cell_type": "code",
   "execution_count": null,
   "metadata": {
    "collapsed": true
   },
   "outputs": [],
   "source": [
    "\n",
    "    "
   ]
  },
  {
   "cell_type": "code",
   "execution_count": null,
   "metadata": {
    "collapsed": true
   },
   "outputs": [],
   "source": []
  },
  {
   "cell_type": "code",
   "execution_count": null,
   "metadata": {
    "collapsed": true
   },
   "outputs": [],
   "source": []
  }
 ],
 "metadata": {
  "kernelspec": {
   "display_name": "Python 2",
   "language": "python",
   "name": "python2"
  },
  "language_info": {
   "codemirror_mode": {
    "name": "ipython",
    "version": 2
   },
   "file_extension": ".py",
   "mimetype": "text/x-python",
   "name": "python",
   "nbconvert_exporter": "python",
   "pygments_lexer": "ipython2",
   "version": "2.7.11"
  }
 },
 "nbformat": 4,
 "nbformat_minor": 0
}
